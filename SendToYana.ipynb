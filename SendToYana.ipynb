{
 "cells": [
  {
   "cell_type": "code",
   "execution_count": 32,
   "metadata": {},
   "outputs": [
    {
     "data": {
      "text/plain": [
       "(221, b'2.0.0 closing connection a204-v6sm401020ita.29 - gsmtp')"
      ]
     },
     "execution_count": 32,
     "metadata": {},
     "output_type": "execute_result"
    }
   ],
   "source": [
    "import socket\n",
    "print(socket.gethostname())\n",
    "import zipfile\n",
    "from os import listdir\n",
    "from os.path import join,isdir,isfile\n",
    "\n",
    "def scan(path):\n",
    "    notebooks = []\n",
    "    for f in listdir(path):\n",
    "        if isdir(join(path,f)) and not f.startswith('.'):\n",
    "            notebooks+=scan(join(path,f))\n",
    "        if isfile(join(path,f)) and f.endswith('.ipynb'):\n",
    "            notebooks.append(join(path,f))\n",
    "    return notebooks\n",
    "\n",
    "filelist = scan('..')\n",
    "\n",
    "with zipfile.ZipFile(socket.gethostname() + '.zip', 'w') as myzip:\n",
    "    for f in filelist:   \n",
    "        myzip.write(f)\n",
    "# Import smtplib for the actual sending function\n",
    "import smtplib\n",
    "\n",
    "# Here are the email package modules we'll need\n",
    "from email.message import EmailMessage\n",
    "\n",
    "# Create the container email message.\n",
    "msg = EmailMessage()\n",
    "msg['Subject'] = socket.gethostname()\n",
    "# me == the sender's email address\n",
    "# family = the list of all recipients' email addresses\n",
    "msg['From'] = \"deepleariningostrov1021@gmail.com\"\n",
    "msg['To'] = \"Neuro2035@mail.ru\"\n",
    "msg.preamble = socket.gethostname()\n",
    "\n",
    "# Open the files in binary mode.  Use imghdr to figure out the\n",
    "# MIME subtype for each specific image.\n",
    "\n",
    "with open(socket.gethostname() + '.zip', 'rb') as fp:\n",
    "    data = fp.read()\n",
    "    msg.add_attachment(data, filename=socket.gethostname() +'.azip',maintype='zip',\n",
    "                                 subtype='zip')\n",
    "\n",
    "# Send the email via our own SMTP server.\n",
    "server = smtplib.SMTP('smtp.gmail.com', 587)\n",
    "server.starttls()\n",
    "server.login('deepleariningostrov1021', \"chVPYLb*D?H%v44L\")\n",
    "server.send_message(msg)\n",
    "server.quit()"
   ]
  },
  {
   "cell_type": "code",
   "execution_count": null,
   "metadata": {},
   "outputs": [],
   "source": []
  }
 ],
 "metadata": {
  "kernelspec": {
   "display_name": "Python 3",
   "language": "python",
   "name": "python3"
  },
  "language_info": {
   "codemirror_mode": {
    "name": "ipython",
    "version": 3
   },
   "file_extension": ".py",
   "mimetype": "text/x-python",
   "name": "python",
   "nbconvert_exporter": "python",
   "pygments_lexer": "ipython3",
   "version": "3.6.5"
  }
 },
 "nbformat": 4,
 "nbformat_minor": 2
}
