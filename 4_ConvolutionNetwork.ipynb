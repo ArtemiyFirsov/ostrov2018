{
 "cells": [
  {
   "cell_type": "code",
   "execution_count": 4,
   "metadata": {},
   "outputs": [],
   "source": [
    "import torch\n",
    "import torch.nn as nn\n",
    "import torch.nn.functional as F\n",
    "import torch.optim as optim\n",
    "import matplotlib.pyplot as plt\n",
    "from torch.autograd import Variable\n",
    "import torchvision"
   ]
  },
  {
   "cell_type": "code",
   "execution_count": 5,
   "metadata": {},
   "outputs": [],
   "source": [
    "mnist = torchvision.datasets.MNIST('.',train=True)"
   ]
  },
  {
   "cell_type": "code",
   "execution_count": 6,
   "metadata": {},
   "outputs": [
    {
     "name": "stdout",
     "output_type": "stream",
     "text": [
      "torch.Size([60000, 28, 28]) torch.Size([60000])\n"
     ]
    }
   ],
   "source": [
    "print(mnist.train_data.shape,mnist.train_labels.shape)"
   ]
  },
  {
   "cell_type": "code",
   "execution_count": 7,
   "metadata": {},
   "outputs": [
    {
     "data": {
      "text/plain": [
       "<matplotlib.image.AxesImage at 0xbf1298f978>"
      ]
     },
     "execution_count": 7,
     "metadata": {},
     "output_type": "execute_result"
    },
    {
     "data": {
      "image/png": "[encoded data removed]",
      "text/plain": [
       "<Figure size 432x288 with 1 Axes>"
      ]
     },
     "metadata": {},
     "output_type": "display_data"
    }
   ],
   "source": [
    "plt.imshow(mnist.train_data[10])"
   ]
  },
  {
   "cell_type": "code",
   "execution_count": 16,
   "metadata": {},
   "outputs": [
    {
     "name": "stdout",
     "output_type": "stream",
     "text": [
      "torch.Size([60000, 1, 28, 28])\n"
     ]
    }
   ],
   "source": [
    "flat_mnist = mnist.train_data\n",
    "flat_mnist = flat_mnist.unsqueeze(1)\n",
    "print(flat_mnist.shape)"
   ]
  },
  {
   "cell_type": "markdown",
   "metadata": {},
   "source": [
    "Переделать нашу линейную архитектуру в свертночную.\n",
    "\n",
    "Нам нужны будут следующие слои:\n",
    "1. Свертка исходного изображения -> на выходе 10 карт (ядро 5)\n",
    "2. Свертка 10 карт в 20 (ядро 5)\n",
    "3. Слой Dropout с вероятность 50%\n",
    "4. Линецный слой 320 в 50\n",
    "5. Линейный слой 50 в 10\n",
    "\n",
    "Граф вычислений:\n",
    "1. Свертка исходного изображения -> на выходе 10 карт (ядро 5)\n",
    "2. Max Pooling 2,2\n",
    "3. ReLU\n",
    "4. Свертка 10 карт в 20 (ядро 5)\n",
    "5. Max Pooling 2,2\n",
    "6. ReLU\n",
    "7. Dropout с вероятность 50%\n",
    "8. Превратит в вектор N,320\n",
    "9. Линецный слой 320 в 50\n",
    "10. ReLU\n",
    "11. Линейный слой 50 в 10\n",
    "12. Softmax"
   ]
  },
  {
   "cell_type": "code",
   "execution_count": 17,
   "metadata": {},
   "outputs": [
    {
     "name": "stdout",
     "output_type": "stream",
     "text": [
      "ConvNet(\n",
      "  (conv1): Conv2d(1, 10, kernel_size=(5, 5), stride=(1, 1))\n",
      "  (conv2): Conv2d(10, 20, kernel_size=(5, 5), stride=(1, 1))\n",
      "  (conv2_drop): Dropout2d(p=0.5)\n",
      "  (fc1): Linear(in_features=320, out_features=50, bias=True)\n",
      "  (fc2): Linear(in_features=50, out_features=10, bias=True)\n",
      ")\n"
     ]
    }
   ],
   "source": [
    "class ConvNet(nn.Module):\n",
    "    def __init__(self):\n",
    "        super(ConvNet, self).__init__()\n",
    "        #TODO задать слои\n",
    "    def forward(self, x):\n",
    "        #TODO задать граф вычислений\n",
    "        return F.log_softmax(x, dim=1)\n",
    "    \n",
    "net = ConvNet()\n",
    "print(net)"
   ]
  },
  {
   "cell_type": "code",
   "execution_count": 18,
   "metadata": {},
   "outputs": [],
   "source": [
    "mean_x = torch.mean(flat_mnist.float())\n",
    "std_x = torch.std(flat_mnist.float())\n",
    "train_data = (flat_mnist.float()-mean_x)/std_x"
   ]
  },
  {
   "cell_type": "code",
   "execution_count": 19,
   "metadata": {},
   "outputs": [
    {
     "name": "stdout",
     "output_type": "stream",
     "text": [
      "[ 9653 52341 26119 23751  1493 21104  2698 58222  2978  2279]\n"
     ]
    }
   ],
   "source": [
    "import numpy as np\n",
    "indexes = np.random.randint(0,train_data.shape[0],10)\n",
    "print(indexes)"
   ]
  },
  {
   "cell_type": "code",
   "execution_count": 20,
   "metadata": {},
   "outputs": [],
   "source": [
    "optimizer = optim.SGD(net.parameters(),0.0001)\n",
    "errors = []\n",
    "net.train()\n",
    "for i in range(3000):\n",
    "    indexes = torch.LongTensor(np.random.randint(0,train_data.shape[0],100))\n",
    "    data, target = Variable(train_data[indexes]), Variable(mnist.train_labels[indexes].long())\n",
    "    optimizer.zero_grad()\n",
    "    output = net(data)\n",
    "    loss = F.nll_loss(output, target, size_average=False)\n",
    "    errors.append(loss.data[0])\n",
    "    loss.backward()\n",
    "    optimizer.step()"
   ]
  },
  {
   "cell_type": "code",
   "execution_count": null,
   "metadata": {},
   "outputs": [],
   "source": [
    "#TODO Заменить SGD на Adam"
   ]
  },
  {
   "cell_type": "code",
   "execution_count": 21,
   "metadata": {},
   "outputs": [
    {
     "data": {
      "text/plain": [
       "[<matplotlib.lines.Line2D at 0xbf0bb78668>]"
      ]
     },
     "execution_count": 21,
     "metadata": {},
     "output_type": "execute_result"
    },
    {
     "data": {
      "image/png": "[encoded data removed]",
      "text/plain": [
       "<Figure size 432x288 with 1 Axes>"
      ]
     },
     "metadata": {},
     "output_type": "display_data"
    }
   ],
   "source": [
    "plt.plot(errors)"
   ]
  },
  {
   "cell_type": "markdown",
   "metadata": {},
   "source": [
    "Проверить результат на test"
   ]
  },
  {
   "cell_type": "code",
   "execution_count": 98,
   "metadata": {},
   "outputs": [],
   "source": [
    "mnist_test = torchvision.datasets.MNIST('.',train=False)\n",
    "#TODO проверить accuracy"
   ]
  },
  {
   "cell_type": "markdown",
   "metadata": {},
   "source": [
    "Изменить learning rate, архитектуру"
   ]
  }
 ],
 "metadata": {
  "kernelspec": {
   "display_name": "Python 3",
   "language": "python",
   "name": "python3"
  },
  "language_info": {
   "codemirror_mode": {
    "name": "ipython",
    "version": 3
   },
   "file_extension": ".py",
   "mimetype": "text/x-python",
   "name": "python",
   "nbconvert_exporter": "python",
   "pygments_lexer": "ipython3",
   "version": "3.6.4"
  }
 },
 "nbformat": 4,
 "nbformat_minor": 2
}
